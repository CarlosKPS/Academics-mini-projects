{
 "cells": [
  {
   "cell_type": "markdown",
   "metadata": {},
   "source": [
    "# Three phase transmission line - one cable per phase\n",
    "### Author :  Carlos K.P.S.\n",
    "### 2019.1 UFRJ - Brazil - electrical engeneering student"
   ]
  },
  {
   "cell_type": "code",
   "execution_count": 1,
   "metadata": {},
   "outputs": [],
   "source": [
    "import numpy as np                                                   # for numerical calculus\n",
    "import sympy                                                         # symbolic library\n",
    "from sympy.abc import x, y                                           # in all code x and y are treated as symbolic variables\n",
    "from sympy.utilities.lambdify import lambdify, implemented_function  # for convert from symbolic to numerical\n",
    "from ipywidgets import interactive                                   # to make the graph's interativity\n",
    "from matplotlib import cm\n",
    "import matplotlib.pyplot as plt\n",
    "np.set_printoptions(suppress=True)\n",
    "np.set_printoptions(precision=2)"
   ]
  },
  {
   "cell_type": "code",
   "execution_count": 6,
   "metadata": {},
   "outputs": [],
   "source": [
    "u = 1.0              # 1pu       \n",
    "rf = 10e-3           # the conductor radius\n",
    "rp = 5e-3\n",
    "xc = [-7,0,7,-3.5,3.5]        # define the x distance of all conductors\n",
    "yc = [10,10,10,15,15]         # define the y distance between eacho conductor to the ground"
   ]
  },
  {
   "cell_type": "code",
   "execution_count": 7,
   "metadata": {},
   "outputs": [],
   "source": [
    "# define the volts function. The entrance is a angle and its return a lis conteined a value of each fase in terms of the \n",
    "# pahse angle\n",
    "def volts(theta):\n",
    "    angle = np.radians(theta)                                                         # transform the degree angle into radian\n",
    "    volts = [u*np.round(np.cos(angle),8),u*np.cos(angle-2.*np.pi/3),u*np.round(np.cos(angle-4.*np.pi/3),8),0,0]\n",
    "    return volts"
   ]
  },
  {
   "cell_type": "code",
   "execution_count": 13,
   "metadata": {},
   "outputs": [],
   "source": [
    "# the function that calculates the Maxwell potential matrix\n",
    "def pot_matrix(x,y,rf,rp,nc=3):\n",
    "    matrix = []\n",
    "    for i in range(0,len(xc)):\n",
    "        aux_list = []\n",
    "        for j in range(0,len(yc)):\n",
    "            if i!=j:\n",
    "                calculo = 0.5*np.log(((y[i]+y[j])**2+(x[i]-x[j])**2)/((y[i]-y[j])**2+(x[i]-x[j])**2))\n",
    "                aux_list.append(calculo)\n",
    "            elif i<=nc:\n",
    "                calculo = np.log(2*y[i]/rf)\n",
    "                aux_list.append(calculo)\n",
    "            else:\n",
    "                calculo = np.log(2*y[i]/rp)\n",
    "                aux_list.append(calculo)\n",
    "        matrix.append(aux_list)\n",
    "    return matrix"
   ]
  },
  {
   "cell_type": "code",
   "execution_count": 18,
   "metadata": {},
   "outputs": [],
   "source": [
    "# define a list of the equivalent charges \n",
    "def tot_charge(theta):\n",
    "    return np.linalg.inv(pot_matrix(xc,yc,rf,rp))@volts(theta) # @ is the product of tow matrix"
   ]
  },
  {
   "cell_type": "code",
   "execution_count": 19,
   "metadata": {},
   "outputs": [],
   "source": [
    "def potencial(theta):\n",
    "    pot_aux = 0   # create a auxiliary variable for the iteration below\n",
    "    char = tot_charge(theta)\n",
    "    for i in np.arange(0,len(char)):  \n",
    "        pot_aux += (char[i])*1./(((x-xc[i])**2+(y-yc[i])**2)**0.5) - (char[i])/(((x-xc[i])**2+(y+yc[i])**2)**0.5) \n",
    "    return pot_aux"
   ]
  },
  {
   "cell_type": "code",
   "execution_count": 20,
   "metadata": {},
   "outputs": [],
   "source": [
    "def field(theta):\n",
    "    pot = potencial(theta)\n",
    "    ex = -sympy.diff(pot,x)\n",
    "    ey = -sympy.diff(pot,y)\n",
    "    return [ex,ey]"
   ]
  },
  {
   "cell_type": "code",
   "execution_count": 44,
   "metadata": {},
   "outputs": [],
   "source": [
    "# create meshgrid xx and yy\n",
    "xx,yy=np.meshgrid(np.linspace(-20,20,80),np.linspace(-20,20,100))"
   ]
  },
  {
   "cell_type": "code",
   "execution_count": 26,
   "metadata": {},
   "outputs": [
    {
     "data": {
      "application/vnd.jupyter.widget-view+json": {
       "model_id": "8aa6c5ad52a7450d8babd4d855c0a261",
       "version_major": 2,
       "version_minor": 0
      },
      "text/plain": [
       "interactive(children=(IntSlider(value=0, description='theta', max=360, step=30), Output()), _dom_classes=('wid…"
      ]
     },
     "metadata": {},
     "output_type": "display_data"
    }
   ],
   "source": [
    "# plotting the equipotentials\n",
    "def plotting(theta=0):\n",
    "    \n",
    "    pot_sym =potencial(theta)                     # gives a symbolic potential function \n",
    "    pot_num = lambdify((x,y),pot_sym,'numpy')     # convert into a numerical fucntion\n",
    "        \n",
    "    fig, ax = plt.subplots(figsize=(13,13))       # choosing the plot size\n",
    "    plt.contour(xx,yy,pot_num(xx,yy),900,colors='darkblue')\n",
    "    #cont1 = plt.contour(xx,yy,pot_num(xx,yy),750,cmap='gist_gray') \n",
    "    #plt.colorbar(cont1)\n",
    "    \n",
    "    \n",
    "interative_plot = interactive(plotting,theta=(0,360,30))\n",
    "interative_plot"
   ]
  },
  {
   "cell_type": "code",
   "execution_count": 40,
   "metadata": {},
   "outputs": [
    {
     "data": {
      "application/vnd.jupyter.widget-view+json": {
       "model_id": "ce1a75b0e50446158a2fe5b1a8d4957d",
       "version_major": 2,
       "version_minor": 0
      },
      "text/plain": [
       "interactive(children=(IntSlider(value=0, description='theta', max=360, step=30), Output()), _dom_classes=('wid…"
      ]
     },
     "metadata": {},
     "output_type": "display_data"
    }
   ],
   "source": [
    "# plotting the field lines of electric fields\n",
    "def plotting(theta=0):\n",
    "    \n",
    "    eletric_field = field(theta)                  # calling the field function tha gives the symbolical electric field components\n",
    "    ex = lambdify((x,y),eletric_field[0],'numpy') # electric field in x direction\n",
    "    ey = lambdify((x,y),eletric_field[1],'numpy') # electric field in y direction\n",
    "    \n",
    "   \n",
    "    \n",
    "    fig, ax = plt.subplots(figsize=(13,13))       # choosing the plot size\n",
    "    ax.streamplot(xx,yy,ex(xx,yy),ey(xx,yy),density=4,arrowsize=0.7,color='r',cmap='Greys')\n",
    "    plt.plot(np.linspace(-20,20,100),len(np.linspace(-20,20,100))*[1],color='black',linewidth=5) # create a line on the origin\n",
    "    \n",
    "    # -------------------------------- Create a circle to represent the conductors ------------------------------------------\n",
    "    circle1 = plt.Circle((xc[0],yc[0]),1,color='r')\n",
    "    circle2 = plt.Circle((xc[1],yc[1]),1,color='r')\n",
    "    circle3 = plt.Circle((xc[2],yc[2]),1,color='r')\n",
    "    \n",
    "    circle4 = plt.Circle((xc[3],yc[3]),.4,color='gray')\n",
    "    circle4_ = plt.Circle((xc[3],yc[3]),.6,color='red')\n",
    "    circle5 = plt.Circle((xc[4],yc[4]),.4,color='gray')\n",
    "    circle5_ = plt.Circle((xc[4],yc[4]),.6,color='red')\n",
    "    circle6 = plt.Circle((xc[3],-yc[3]),.4,color='gray')\n",
    "    circle6_ = plt.Circle((xc[3],-yc[3]),.6,color='blue')\n",
    "    circle7 = plt.Circle((xc[4],-yc[4]),.4,color='gray')\n",
    "    circle7_ = plt.Circle((xc[4],-yc[4]),.6,color='blue')\n",
    "    \n",
    "    circle8 = plt.Circle((xc[0],-yc[0]),1,color='blue')\n",
    "    circle9 = plt.Circle((xc[1],-yc[1]),1,color='blue')\n",
    "    circle10 = plt.Circle((xc[2],-yc[2]),1,color='blue')\n",
    "    \n",
    "    ax.add_artist(circle1)\n",
    "    ax.add_artist(circle2)\n",
    "    ax.add_artist(circle3)\n",
    "    ax.add_artist(circle4_)\n",
    "    ax.add_artist(circle4)\n",
    "    ax.add_artist(circle5_)\n",
    "    ax.add_artist(circle5)\n",
    "    ax.add_artist(circle6_)\n",
    "    ax.add_artist(circle6)\n",
    "    ax.add_artist(circle7_)\n",
    "    ax.add_artist(circle7)\n",
    "    ax.add_artist(circle8)\n",
    "    ax.add_artist(circle9)\n",
    "    ax.add_artist(circle10)\n",
    "    # ------------------------------------------------------------------------------------------------------------------------\n",
    "    \n",
    "    plt.xlim(-20,20)                   \n",
    "    plt.ylim(-20,20)\n",
    "    plt.show()\n",
    "    \n",
    "    \n",
    "interative_plot = interactive(plotting,theta=(0,360,30))\n",
    "interative_plot"
   ]
  },
  {
   "cell_type": "code",
   "execution_count": 46,
   "metadata": {},
   "outputs": [
    {
     "data": {
      "application/vnd.jupyter.widget-view+json": {
       "model_id": "723a36be5de54903b42f22bca58ebfc1",
       "version_major": 2,
       "version_minor": 0
      },
      "text/plain": [
       "interactive(children=(IntSlider(value=0, description='theta', max=360, step=30), Output()), _dom_classes=('wid…"
      ]
     },
     "metadata": {},
     "output_type": "display_data"
    }
   ],
   "source": [
    "# define the plot of equipotentials and field lines together\n",
    "def plotting(theta=0):\n",
    "    \n",
    "    pot_sym =potencial(theta)                     # gives a symbolic potential function \n",
    "    pot_num = lambdify((x,y),pot_sym,'numpy')     # convert into a numerical fucntion\n",
    "    \n",
    "    eletric_field = field(theta)                  # calling the field function tha gives the symbolical electric field components\n",
    "    ex = lambdify((x,y),eletric_field[0],'numpy') # electric field in x direction\n",
    "    ey = lambdify((x,y),eletric_field[1],'numpy') # electric field in y direction\n",
    "    \n",
    "   \n",
    "    \n",
    "    fig, ax = plt.subplots(figsize=(13,13))       # choosing the plot size\n",
    "    #plt.contour(xx,yy,pot_num(xx,yy),950,colors='darkblue',linestyles='-')\n",
    "    cont1 = plt.contour(xx,yy,pot_num(xx,yy),500,cmap='gist_gray') \n",
    "    plt.colorbar(cont1)\n",
    "    #plt.contourf(xx,yy,pot_num(xx,yy),100)\n",
    "    ax.streamplot(xx,yy,ex(xx,yy),ey(xx,yy),density=2,arrowsize=0.7,color='r')\n",
    "    \n",
    "    #cp = plt.contourf(xx, yy, pot_num(xx,yy),300,cmap='nipy_spectral')\n",
    "    #plt.colorbar(cp)\n",
    "    \n",
    "    plt.xlim(-20,20)                   \n",
    "    plt.ylim(-20,20)\n",
    "    plt.show()\n",
    "    \n",
    "    \n",
    "interative_plot = interactive(plotting,theta=(0,360,30))\n",
    "interative_plot"
   ]
  },
  {
   "cell_type": "code",
   "execution_count": 47,
   "metadata": {},
   "outputs": [
    {
     "data": {
      "text/plain": [
       "[[7.600902459542082,\n",
       "  1.1076012948158138,\n",
       "  0.5560630039174163,\n",
       "  1.4197550492153281,\n",
       "  0.8465428298537567],\n",
       " [1.1076012948158138,\n",
       "  7.600902459542082,\n",
       "  1.1076012948158138,\n",
       "  1.4197550492153281,\n",
       "  1.4197550492153281],\n",
       " [0.5560630039174163,\n",
       "  1.1076012948158138,\n",
       "  7.600902459542082,\n",
       "  0.8465428298537567,\n",
       "  1.4197550492153281],\n",
       " [1.4197550492153281,\n",
       "  1.4197550492153281,\n",
       "  0.8465428298537567,\n",
       "  8.006367567650246,\n",
       "  1.4817942502496506],\n",
       " [0.8465428298537567,\n",
       "  1.4197550492153281,\n",
       "  1.4197550492153281,\n",
       "  1.4817942502496506,\n",
       "  8.699514748210191]]"
      ]
     },
     "execution_count": 47,
     "metadata": {},
     "output_type": "execute_result"
    }
   ],
   "source": [
    "pot_matrix(xc,yc,rf,rp)"
   ]
  },
  {
   "cell_type": "code",
   "execution_count": null,
   "metadata": {},
   "outputs": [],
   "source": []
  }
 ],
 "metadata": {
  "kernelspec": {
   "display_name": "Python 3",
   "language": "python",
   "name": "python3"
  },
  "language_info": {
   "codemirror_mode": {
    "name": "ipython",
    "version": 3
   },
   "file_extension": ".py",
   "mimetype": "text/x-python",
   "name": "python",
   "nbconvert_exporter": "python",
   "pygments_lexer": "ipython3",
   "version": "3.7.1"
  }
 },
 "nbformat": 4,
 "nbformat_minor": 2
}
