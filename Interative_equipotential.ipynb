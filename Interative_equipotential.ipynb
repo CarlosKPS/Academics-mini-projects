{
 "cells": [
  {
   "cell_type": "markdown",
   "metadata": {},
   "source": [
    "# Interactive graphics of equipotentials and electric force lines of two charges\n",
    "# Author : Carlos K. P. S.\n",
    "# UFRJ 2019.1 - Brazil - Electrical engineering student"
   ]
  },
  {
   "cell_type": "code",
   "execution_count": 77,
   "metadata": {},
   "outputs": [],
   "source": [
    "# Imoporting important libraries\n",
    "\n",
    "import numpy as np                       # for make meshgris and fast operations\n",
    "import matplotlib.pyplot as plt          # to plot the graphs\n",
    "from ipywidgets import interactive       # to make the graph's interativity\n",
    "from mpl_toolkits.mplot3d import Axes3D  # for plots in 3D\n",
    "from matplotlib import cm"
   ]
  },
  {
   "cell_type": "code",
   "execution_count": 64,
   "metadata": {},
   "outputs": [],
   "source": [
    "# creating arrays\n",
    "\n",
    "x = np.linspace(-1.5,2.5,200)\n",
    "y = np.linspace(-1.5,2.5,200)"
   ]
  },
  {
   "cell_type": "code",
   "execution_count": 65,
   "metadata": {},
   "outputs": [],
   "source": [
    "# Creating the meshgrid\n",
    "\n",
    "X,Y = np.meshgrid(x,y)"
   ]
  },
  {
   "cell_type": "code",
   "execution_count": 66,
   "metadata": {},
   "outputs": [
    {
     "data": {
      "application/vnd.jupyter.widget-view+json": {
       "model_id": "74fe5e8dca6844b49821e10a6959aa2d",
       "version_major": 2,
       "version_minor": 0
      },
      "text/plain": [
       "interactive(children=(FloatSlider(value=-1.0, description='q', max=1.0, min=-1.0, step=0.2), Output()), _dom_c…"
      ]
     },
     "metadata": {},
     "output_type": "display_data"
    }
   ],
   "source": [
    "# define potential (phi) function \n",
    "def potential(x,y,carga=-1.):\n",
    "    return (1./(np.sqrt(x**2+y**2)) + carga/(np.sqrt((x-1)**2+y**2)))\n",
    "\n",
    "# define de plotting function. Will atualizado for each value of \"q\"\n",
    "def plotting(q=-1.):\n",
    "    z = potential(X,Y,q)                                # define a function z for better code inspection \n",
    "    fig = plt.figure(figsize=(13,10))                   #Graph size\n",
    "    plot_pot = plt.contour(X,Y,z,350,colors='black')    # create a contour plot\n",
    "    plt.xlim(-1.5,2.5) \n",
    "    plt.ylim(-1.5,2)\n",
    "    \n",
    "# calling the interactive function  \n",
    "interative_plot = interactive(plotting,q=(-1,1,0.2))\n",
    "interative_plot"
   ]
  },
  {
   "cell_type": "code",
   "execution_count": 91,
   "metadata": {},
   "outputs": [
    {
     "data": {
      "application/vnd.jupyter.widget-view+json": {
       "model_id": "e906b0f0d7a74229811299dafe1b930a",
       "version_major": 2,
       "version_minor": 0
      },
      "text/plain": [
       "interactive(children=(FloatSlider(value=-1.0, description='q', max=1.0, min=-1.0, step=0.2), Output()), _dom_c…"
      ]
     },
     "metadata": {},
     "output_type": "display_data"
    }
   ],
   "source": [
    "# define a auxiliary function for plot 3D graph of equipotentials\n",
    "def plotting_aux(q=-1.):\n",
    "    fig = plt.figure(figsize=(13,10)) \n",
    "    ax = fig.add_subplot(111, projection='3d')\n",
    "    Z = potential(X,Y,q)\n",
    "    surf = ax.plot_surface(X, Y, Z,cmap=cm.hot,antialiased=False)\n",
    "    fig.colorbar(surf, shrink=0.5, aspect=5)\n",
    "    \n",
    "# calling the interactive function  \n",
    "interative_plot = interactive(plotting_aux,q=(-1,1,0.2))\n",
    "interative_plot"
   ]
  },
  {
   "cell_type": "code",
   "execution_count": 67,
   "metadata": {},
   "outputs": [
    {
     "data": {
      "application/vnd.jupyter.widget-view+json": {
       "model_id": "26a26d76fe484edaa2f1d2cf08378a19",
       "version_major": 2,
       "version_minor": 0
      },
      "text/plain": [
       "interactive(children=(FloatSlider(value=-1.0, description='charge', max=1.0, min=-1.0, step=0.2), Output()), _…"
      ]
     },
     "metadata": {},
     "output_type": "display_data"
    }
   ],
   "source": [
    "def field_lines(x,y,carga=-1.):\n",
    "    return (1-x/(np.sqrt(x**2+y**2)) + carga*(1-(x-1)/(np.sqrt((x-1)**2+y**2))))\n",
    "\n",
    "def plotting2(charge=-1.):\n",
    "    z = field_lines(X,Y,charge)\n",
    "    fig2 = plt.figure(figsize=(13,10))\n",
    "    field = plt.contour(X,Y,z,150,colors='black')\n",
    "    plt.xlim(-1.5,2.5)\n",
    "    plt.ylim(-1.5,2)\n",
    "    \n",
    "interactive(plotting2,charge=(-1,1,0.2))"
   ]
  },
  {
   "cell_type": "code",
   "execution_count": 92,
   "metadata": {},
   "outputs": [
    {
     "data": {
      "application/vnd.jupyter.widget-view+json": {
       "model_id": "ac3e0a20ebde411bb729225033c62f40",
       "version_major": 2,
       "version_minor": 0
      },
      "text/plain": [
       "interactive(children=(FloatSlider(value=-1.0, description='q', max=1.0, min=-1.0, step=0.2), Output()), _dom_c…"
      ]
     },
     "metadata": {},
     "output_type": "display_data"
    }
   ],
   "source": [
    "# define a auxiliary function for plot 3D graph of force lines\n",
    "def plotting2_aux(q=-1.):\n",
    "    fig = plt.figure(figsize=(13,10)) \n",
    "    ax = fig.add_subplot(111, projection='3d')\n",
    "    Z = field_lines(X,Y,q)\n",
    "    surf = ax.plot_surface(X, Y, Z,cmap=cm.hot,antialiased=False)\n",
    "    fig.colorbar(surf, shrink=0.5, aspect=5)\n",
    "    \n",
    "# calling the interactive function  \n",
    "interative_plot = interactive(plotting2_aux,q=(-1,1,0.2))\n",
    "interative_plot"
   ]
  },
  {
   "cell_type": "code",
   "execution_count": null,
   "metadata": {},
   "outputs": [],
   "source": []
  }
 ],
 "metadata": {
  "kernelspec": {
   "display_name": "Python 3",
   "language": "python",
   "name": "python3"
  },
  "language_info": {
   "codemirror_mode": {
    "name": "ipython",
    "version": 3
   },
   "file_extension": ".py",
   "mimetype": "text/x-python",
   "name": "python",
   "nbconvert_exporter": "python",
   "pygments_lexer": "ipython3",
   "version": "3.7.1"
  }
 },
 "nbformat": 4,
 "nbformat_minor": 2
}
