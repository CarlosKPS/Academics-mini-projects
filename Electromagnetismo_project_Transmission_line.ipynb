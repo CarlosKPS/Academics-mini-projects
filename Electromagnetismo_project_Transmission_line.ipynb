{
 "cells": [
  {
   "cell_type": "code",
   "execution_count": 1,
   "metadata": {},
   "outputs": [],
   "source": [
    "import numpy as np\n",
    "import matplotlib.pyplot as plt\n",
    "from matplotlib.pyplot import cm\n",
    "import sympy                                                         # symbolic library\n",
    "from sympy.abc import x, y                                           # in all code x and y are treated as symbolic variables\n",
    "from sympy.utilities.lambdify import lambdify, implemented_function  # for convert from symbolic to numerical\n",
    "from sympy.interactive import printing\n",
    "printing.init_printing(use_latex=True)\n",
    "\n",
    "from ipywidgets import interactive \n",
    "from matplotlib.animation import FuncAnimation\n",
    "from scipy.special import iv"
   ]
  },
  {
   "cell_type": "markdown",
   "metadata": {},
   "source": [
    "## Building conductor class"
   ]
  },
  {
   "cell_type": "code",
   "execution_count": 2,
   "metadata": {},
   "outputs": [],
   "source": [
    "class Condutor(object):\n",
    "    '''The Donductor class:\n",
    "    It creat a conductor that can be put in a TransmissionLine class (possibly).\n",
    "    x: is the x position in the plane x-y\n",
    "    y: is the y position in the plane x-y\n",
    "    r_ext: The external radio of the conductor\n",
    "    r_int: The internal radio of the conductor. Default is zero'''\n",
    "    \n",
    "    def __init__(self, x, y, r_ext, r_int=0):\n",
    "        self.xc = x\n",
    "        self.yc = y\n",
    "        self.rinternal = r_int\n",
    "        self.rexternal = r_ext\n",
    "        self.area_condutor = np.pi*(r_ext**2 - r_int**2)\n",
    "        self.phase = None\n",
    "        self.charges = None\n",
    "        self.i = None\n",
    "    \n",
    "    @property\n",
    "    def x_position(self):\n",
    "        return self.xc\n",
    "    @property\n",
    "    def y_position(self):\n",
    "        return self.yc\n",
    "    @property\n",
    "    def r_internal(self):\n",
    "        return self.r_internal\n",
    "    @property\n",
    "    def r_external(self):\n",
    "        return self.r_external\n",
    "    @property\n",
    "    def area(self):\n",
    "        return self.area_condutor\n",
    "    @property\n",
    "    def fase(self):\n",
    "        return self.phase\n",
    "    @property\n",
    "    def charge(self):\n",
    "        return self.charges\n",
    "    @property\n",
    "    def current(self):\n",
    "        return self.i\n",
    "    \n",
    "    \n",
    "    @x_position.setter\n",
    "    def x_position(self,x):\n",
    "        self.xc = x\n",
    "    @y_position.setter\n",
    "    def y_position(self,yc):\n",
    "        self.yc = y\n",
    "    @fase.setter\n",
    "    def fase(self,phase):\n",
    "        self.phase = phase\n",
    "    @charge.setter\n",
    "    def charge(self,q):\n",
    "        self.charges = q\n",
    "    @current.setter\n",
    "    def current(self,i):\n",
    "        self.i = i\n",
    "        "
   ]
  },
  {
   "cell_type": "markdown",
   "metadata": {},
   "source": [
    "## Variables definitions"
   ]
  },
  {
   "cell_type": "code",
   "execution_count": 3,
   "metadata": {},
   "outputs": [],
   "source": [
    "sigma_solo = 0.001    # solo's conductivity \n",
    "epsilon = 83854e-12   # permittivity in all regions\n",
    "mi = 4.*np.pi*1e-7    # premeabilty in all regions except in the ligthning wires\n",
    "m_r = 100.            # relative permittivity\n",
    "r_int = 0.003995      # internal radius\n",
    "r_ext = 0.01598       # external radius\n",
    "number_cables = 6\n",
    "\n",
    "u = 500e3             # Voltage maximum amplitude (V)\n",
    "p = 1000e6            # Potence in a phase    (W)\n",
    "I = p/u               # The current per cable (A)\n",
    "w = 2*np.pi*60        # angular frequency (rad/s)\n",
    "\n",
    "p = np.sqrt(1/(1j*w*mi*sigma_solo)) # complex depth\n",
    "\n",
    "phase_line = {'a': 0 , 'b':-120, 'c':120}  # angle of each phase\n",
    "\n",
    "# the last two conductors are the ligthning conductors ---------------------------------------------------------------\n",
    "xy = np.array([[-6,17],[-6,27.8],[-6,37],[6,17],[6,27.8],[6,37],[-8,55],[8,55]])  # the position matrix of eacho cable\n",
    "a,b = np.hsplit(xy,2)\n",
    "xc = np.transpose(a)[0]\n",
    "yc = np.transpose(b)[0]"
   ]
  },
  {
   "cell_type": "code",
   "execution_count": 81,
   "metadata": {},
   "outputs": [
    {
     "data": {
      "image/png": "[encoded data removed]",
      "text/latex": [
       "$$2000.0$$"
      ],
      "text/plain": [
       "2000.0"
      ]
     },
     "execution_count": 81,
     "metadata": {},
     "output_type": "execute_result"
    }
   ],
   "source": [
    "# for test\n",
    "I"
   ]
  },
  {
   "cell_type": "markdown",
   "metadata": {},
   "source": [
    "## Functions"
   ]
  },
  {
   "cell_type": "code",
   "execution_count": 4,
   "metadata": {},
   "outputs": [],
   "source": [
    "# create a list of conductos\n",
    "def create_conductor(x,y,r_e,r_i=0):\n",
    "    '''Description: Create a list of conductor objects from Conductor class.\n",
    "    \n",
    "    x: The x position list\n",
    "    y: The y position list\n",
    "    r_e: The external radius\n",
    "    r_i: The internal radius'''\n",
    "    \n",
    "    aux_list = []\n",
    "    for i in range(0,len(x)):\n",
    "        c = Condutor(x[i],y[i],r_ext,r_int)\n",
    "        aux_list.append(c)\n",
    "    return aux_list\n",
    "\n",
    "\n",
    "# define the equivalent conductor\n",
    "def equivalent_radius(r_e,R,N):\n",
    "    '''Return the equivalent radius of a conductor beam'''\n",
    "    r_equivalent = (N*r_e*(R**(N-1)))**(1./N)\n",
    "    return r_equivalent\n",
    "\n",
    "\n",
    "# The Maxwell's potential matrix\n",
    "def pot_matrix(x,y,rf,rp,nc=6):\n",
    "    matrix = []\n",
    "    for i in range(0,len(xc)):\n",
    "        aux_list = []\n",
    "        for j in range(0,len(yc)):\n",
    "            if i!=j:\n",
    "                calculo = 0.5*np.log(((y[i]+y[j])**2+(x[i]-x[j])**2)/((y[i]-y[j])**2+(x[i]-x[j])**2))\n",
    "                aux_list.append(calculo)\n",
    "            elif i<=nc:\n",
    "                calculo = np.log(2*(y[i])/rf)\n",
    "                aux_list.append(calculo)\n",
    "            else:\n",
    "                calculo = np.log(2*(y[i])/rp)\n",
    "                aux_list.append(calculo)\n",
    "        matrix.append(aux_list)\n",
    "    matrix = np.array(matrix)\n",
    "    return matrix\n",
    "\n",
    "# The complex potential matrix for calculate impedance\n",
    "def c_pot_matrix(x,y,rf,rp,nc=6):\n",
    "    matrix = []\n",
    "    for i in range(0,len(xc)):\n",
    "        aux_list = []\n",
    "        for j in range(0,len(yc)):\n",
    "            if i!=j:\n",
    "                calculo = 0.5*np.log(((y[i]+y[j]+2*p)**2+(x[i]-x[j])**2)/((y[i]-y[j])**2+(x[i]-x[j])**2))\n",
    "                aux_list.append(calculo)\n",
    "            elif i<=nc:\n",
    "                calculo = np.log(2*(y[i]+p)/rf)\n",
    "                aux_list.append(calculo)\n",
    "            else:\n",
    "                calculo = np.log(2*(y[i]+p)/rp)\n",
    "                aux_list.append(calculo)\n",
    "        matrix.append(aux_list)\n",
    "    matrix = np.array(matrix)\n",
    "    return matrix\n",
    "\n",
    "# Voltage list\n",
    "def volts(theta):\n",
    "    '''Description: returns a matrix coteined the potential value for each conductor'''\n",
    "    angle = np.radians(theta)\n",
    "    volts = []\n",
    "    for k in conductors:\n",
    "        if k.fase == None:\n",
    "            volts.append(0)\n",
    "        else:\n",
    "            a = u*np.cos(angle+ np.radians(k.fase))\n",
    "            volts.append(a)\n",
    "    return volts\n",
    "\n",
    "# all charges cointeined in each cable\n",
    "def total_charge(theta):\n",
    "    qq = (2*np.pi*epsilon)*np.linalg.inv(pot_matrix(xc,yc,equivalent_radius(r_ext,0.2,4.),equivalent_radius(r_ext,0.2,4.)))@volts(theta)\n",
    "    for k in range(0,len(qq)):\n",
    "        conductors[k].charge = qq[k]\n",
    "    return qq\n",
    "\n",
    "def current(theta):\n",
    "    for k in conductors:\n",
    "        if k.fase is None:\n",
    "            pass\n",
    "        else:\n",
    "            new_phi = k.fase + 30.                             # each current are late by factor of 30º of it voltage\n",
    "            k.current = I*np.cos(np.radians(theta + new_phi))  # calculate each current\n",
    "        \n",
    "# chamar primeiro total_charge() e depois potencial_eletrico()\n",
    "    \n",
    "def electric_potential(theta,x1=None,y1=None):\n",
    "    pot_aux = 0.\n",
    "    total_charge(theta)\n",
    "    alpha = 1./(4*np.pi*epsilon)\n",
    "    for k in conductors:\n",
    "        pot_aux+= alpha*(k.charge/((x-k.x_position)**2+(y-k.y_position)**2)**0.5 + (-1.*k.charge)/((x-k.x_position)**2+(y+k.y_position)**2)**0.5 )\n",
    "    return pot_aux\n",
    "\n",
    "def electric_field(theta):\n",
    "    ex = -sympy.diff(electric_potential(theta),x)\n",
    "    ey = -sympy.diff(electric_potential(theta),y)\n",
    "    return [ex,ey]\n",
    "\n",
    "def magnetic_density(theta):\n",
    "    current(theta)\n",
    "    return conductors"
   ]
  },
  {
   "cell_type": "code",
   "execution_count": 83,
   "metadata": {},
   "outputs": [
    {
     "data": {
      "text/plain": [
       "array([-0.02166148, -0.03341097,  0.05513782, -0.02166148, -0.03341097,\n",
       "        0.05513782, -0.00815952, -0.00815952])"
      ]
     },
     "execution_count": 83,
     "metadata": {},
     "output_type": "execute_result"
    }
   ],
   "source": [
    "total_charge(0)"
   ]
  },
  {
   "cell_type": "markdown",
   "metadata": {},
   "source": [
    "## Set the conductors parameters"
   ]
  },
  {
   "cell_type": "code",
   "execution_count": 24,
   "metadata": {},
   "outputs": [],
   "source": [
    "conductors = create_conductor(xc,yc,r_ext,r_int) # create a list of conductors\n",
    "c1 = conductors[0]\n",
    "c2 = conductors[1]\n",
    "c3 = conductors[2]\n",
    "c4 = conductors[3]\n",
    "c5 = conductors[4]\n",
    "c6 = conductors[5]\n",
    "pr1 = conductors[6]\n",
    "pr2 = conductors[7]\n",
    "# for set the phase conductors\n",
    "c3.fase = c6.fase = phase_line['a'] \n",
    "c2.fase = c5.fase = phase_line['b']\n",
    "c1.fase = c4.fase = phase_line['c']\n"
   ]
  },
  {
   "cell_type": "code",
   "execution_count": 112,
   "metadata": {},
   "outputs": [],
   "source": []
  },
  {
   "cell_type": "markdown",
   "metadata": {},
   "source": [
    "## For plotting"
   ]
  },
  {
   "cell_type": "code",
   "execution_count": 5,
   "metadata": {},
   "outputs": [],
   "source": [
    "%matplotlib notebook"
   ]
  },
  {
   "cell_type": "code",
   "execution_count": 25,
   "metadata": {},
   "outputs": [
    {
     "data": {
      "application/vnd.jupyter.widget-view+json": {
       "model_id": "32765861eb1140479850cfef91f50096",
       "version_major": 2,
       "version_minor": 0
      },
      "text/plain": [
       "interactive(children=(IntSlider(value=0, description='theta', max=370, step=30), Output()), _dom_classes=('wid…"
      ]
     },
     "metadata": {},
     "output_type": "display_data"
    }
   ],
   "source": [
    "\n",
    "\n",
    "xx,yy = np.meshgrid(np.linspace(-35,35,300),np.linspace(-65,65,300))\n",
    "ls = np.arange(-30000,30000,100)\n",
    "\n",
    "def plot_equipotential(theta=0):\n",
    "    \n",
    "    symbolical_pot = electric_potential(theta)\n",
    "    numerical_pot = lambdify((x,y),symbolical_pot,'numpy')\n",
    "    fig, ax = plt.subplots(figsize=(10,10))       # choosing the plot size\n",
    "    c = plt.contourf(xx,yy,numerical_pot(xx,yy),cmap='hot',alpha=0.3,levels=ls,corner_mask=False)\n",
    "    #b = ax.contour(xx,yy,np.abs(numerical_pot(xx,yy)),800,cmap='jet')\n",
    "    plt.grid(True)\n",
    "    #plt.colorbar(b)\n",
    "    plt.colorbar(c)\n",
    "    plt.xlim(-34,34)\n",
    "    plt.ylim(-65,65)\n",
    "    plt.show()\n",
    "\n",
    "Interactive_plot = interactive(plot_equipotential,theta=(0,370,30))\n",
    "Interactive_plot"
   ]
  },
  {
   "cell_type": "code",
   "execution_count": 45,
   "metadata": {},
   "outputs": [
    {
     "data": {
      "image/png": "[encoded data removed]",
      "text/plain": [
       "<Figure size 432x288 with 1 Axes>"
      ]
     },
     "metadata": {
      "needs_background": "light"
     },
     "output_type": "display_data"
    }
   ],
   "source": [
    "def potential_strog(theta):\n",
    "    x_coord = np.linspace(-50,50,200)\n",
    "    numeric_potential = lambdify((x,y),electric_potential(theta),'numpy')\n",
    "    plt.plot(x_coord,np.abs(numeric_potential(x_coord,0)),'b')\n",
    "\n",
    "potential_strog(120)"
   ]
  },
  {
   "cell_type": "markdown",
   "metadata": {},
   "source": [
    "## Electric Field lines"
   ]
  },
  {
   "cell_type": "code",
   "execution_count": 38,
   "metadata": {},
   "outputs": [
    {
     "data": {
      "application/vnd.jupyter.widget-view+json": {
       "model_id": "4d195b9ae1434a83abf75f1e930dac6e",
       "version_major": 2,
       "version_minor": 0
      },
      "text/plain": [
       "interactive(children=(IntSlider(value=0, description='theta', max=370, step=30), Output()), _dom_classes=('wid…"
      ]
     },
     "metadata": {},
     "output_type": "display_data"
    }
   ],
   "source": [
    "\n",
    "def electricfiled_plot(theta=0):\n",
    "    symbolical_pot = electric_potential(theta)\n",
    "    numerical_pot = lambdify((x,y),symbolical_pot,'numpy')\n",
    "    ex_symbolical, ey_symbolical = electric_field(theta)\n",
    "    fig, ax = plt.subplots(figsize=(10,10))\n",
    "    Ex = lambdify((x,y),ex_symbolical,'numpy')\n",
    "    Ey = lambdify((x,y),ey_symbolical,'numpy')\n",
    "    plt.streamplot(xx,yy,Ex(xx,yy),Ey(xx,yy),density=3,arrowsize=0.3,color='r',cmap='Greys')\n",
    "    plt.xlim(-34,34)\n",
    "    plt.ylim(-65,65)\n",
    "    \n",
    "Interactive_plot = interactive(electricfiled_plot,theta=(0,370,30))\n",
    "Interactive_plot"
   ]
  },
  {
   "cell_type": "code",
   "execution_count": null,
   "metadata": {},
   "outputs": [],
   "source": []
  },
  {
   "cell_type": "code",
   "execution_count": 58,
   "metadata": {},
   "outputs": [],
   "source": [
    "def field_strog(theta):\n",
    "    x_coord = np.linspace(-100,100,600)\n",
    "    ex,ey = electric_field(theta)\n",
    "    Ex = lambdify((x,y),ex,'numpy')\n",
    "    Ey = lambdify((x,y),ey,'numpy')\n",
    "    fig, ax = plt.subplots(figsize=(10,10))\n",
    "    plt.plot(x_coord,np.sqrt(Ex(x_coord,0)**2+Ey(x_coord,0)**2),'b')\n",
    "    plt.xlim(-100,100)\n",
    "    plt.ylim(0,500)\n",
    "    plt.show()"
   ]
  },
  {
   "cell_type": "code",
   "execution_count": 64,
   "metadata": {},
   "outputs": [
    {
     "data": {
      "image/png": "[encoded data removed]",
      "text/plain": [
       "<Figure size 720x720 with 1 Axes>"
      ]
     },
     "metadata": {
      "needs_background": "light"
     },
     "output_type": "display_data"
    }
   ],
   "source": [
    "field_strog(200)"
   ]
  },
  {
   "cell_type": "code",
   "execution_count": 78,
   "metadata": {},
   "outputs": [],
   "source": [
    "def field_y_strog(theta):\n",
    "    x_coord = np.linspace(-100,100,600)\n",
    "    ex,ey = electric_field(theta)\n",
    "    Ex = lambdify((x,y),ex,'numpy')\n",
    "    Ey = lambdify((x,y),ey,'numpy')\n",
    "    fig, ax = plt.subplots(figsize=(10,10))\n",
    "    plt.plot(x_coord,np.abs(Ey(x_coord,10)),'b')\n",
    "    plt.plot(x_coord,np.abs(Ex(x_coord,10)),'r')\n",
    "    plt.xlim(-100,100)\n",
    "    plt.ylim(0,700)\n",
    "    plt.show()\n"
   ]
  },
  {
   "cell_type": "code",
   "execution_count": 79,
   "metadata": {},
   "outputs": [
    {
     "data": {
      "image/png": "[encoded data removed]",
      "text/plain": [
       "<Figure size 720x720 with 1 Axes>"
      ]
     },
     "metadata": {
      "needs_background": "light"
     },
     "output_type": "display_data"
    }
   ],
   "source": [
    "field_y_strog(0)"
   ]
  },
  {
   "cell_type": "code",
   "execution_count": 90,
   "metadata": {},
   "outputs": [
    {
     "data": {
      "image/png": "[encoded data removed]",
      "text/latex": [
       "$$\\left ( 0.5225108577336591, \\quad 0.5225108577336556\\right )$$"
      ],
      "text/plain": [
       "(0.5225108577336591, 0.5225108577336556)"
      ]
     },
     "execution_count": 90,
     "metadata": {},
     "output_type": "execute_result"
    }
   ],
   "source": [
    "abs(Ex(-25,0.1)) , abs(Ex(25,0.1))"
   ]
  },
  {
   "cell_type": "code",
   "execution_count": 119,
   "metadata": {},
   "outputs": [
    {
     "data": {
      "image/png": "[encoded data removed]",
      "text/latex": [
       "$$0.0007520984593666416$$"
      ],
      "text/plain": [
       "0.0007520984593666416"
      ]
     },
     "execution_count": 119,
     "metadata": {},
     "output_type": "execute_result"
    }
   ],
   "source": [
    "c1.area"
   ]
  },
  {
   "cell_type": "code",
   "execution_count": 173,
   "metadata": {},
   "outputs": [],
   "source": [
    "ex_symbolical, ey_symbolical = electric_field(0)"
   ]
  },
  {
   "cell_type": "code",
   "execution_count": 175,
   "metadata": {},
   "outputs": [
    {
     "data": {
      "image/png": "[encoded data removed]",
      "text/latex": [
       "$$- \\frac{\\left(7729.40060627881 + 13.5349782789824 i\\right) \\left(- 1.0 y - 55.0\\right)}{\\left(\\left(x - 8.0\\right)^{2} + \\left(y + 55.0\\right)^{2}\\right)^{1.5}} - \\frac{\\left(7729.40060627882 + 13.5349782789824 i\\right) \\left(- 1.0 y - 55.0\\right)}{\\left(\\left(x + 8.0\\right)^{2} + \\left(y + 55.0\\right)^{2}\\right)^{1.5}} - \\frac{\\left(-52351.8909831479 + 24.6587110000658 i\\right) \\left(- 1.0 y - 37.0\\right)}{\\left(\\left(x - 6.0\\right)^{2} + \\left(y + 37.0\\right)^{2}\\right)^{1.5}} - \\frac{\\left(-52351.8909831479 + 24.6587110000658 i\\right) \\left(- 1.0 y - 37.0\\right)}{\\left(\\left(x + 6.0\\right)^{2} + \\left(y + 37.0\\right)^{2}\\right)^{1.5}} - \\frac{\\left(31652.5113821154 + 50.7653568433555 i\\right) \\left(- 1.0 y - 27.8\\right)}{\\left(\\left(x - 6.0\\right)^{2} + \\left(y + 27.8\\right)^{2}\\right)^{1.5}} - \\frac{\\left(31652.5113821154 + 50.7653568433555 i\\right) \\left(- 1.0 y - 27.8\\right)}{\\left(\\left(x + 6.0\\right)^{2} + \\left(y + 27.8\\right)^{2}\\right)^{1.5}} - \\frac{\\left(20385.8530821745 + 156.843214069865 i\\right) \\left(- 1.0 y - 17.0\\right)}{\\left(\\left(x - 6.0\\right)^{2} + \\left(y + 17.0\\right)^{2}\\right)^{1.5}} - \\frac{\\left(20385.8530821745 + 156.843214069865 i\\right) \\left(- 1.0 y - 17.0\\right)}{\\left(\\left(x + 6.0\\right)^{2} + \\left(y + 17.0\\right)^{2}\\right)^{1.5}} - \\frac{\\left(-20385.8530821745 - 156.843214069865 i\\right) \\left(- 1.0 y + 17.0\\right)}{\\left(\\left(x - 6.0\\right)^{2} + \\left(y - 17.0\\right)^{2}\\right)^{1.5}} - \\frac{\\left(-20385.8530821745 - 156.843214069865 i\\right) \\left(- 1.0 y + 17.0\\right)}{\\left(\\left(x + 6.0\\right)^{2} + \\left(y - 17.0\\right)^{2}\\right)^{1.5}} - \\frac{\\left(-31652.5113821154 - 50.7653568433555 i\\right) \\left(- 1.0 y + 27.8\\right)}{\\left(\\left(x - 6.0\\right)^{2} + \\left(y - 27.8\\right)^{2}\\right)^{1.5}} - \\frac{\\left(-31652.5113821154 - 50.7653568433555 i\\right) \\left(- 1.0 y + 27.8\\right)}{\\left(\\left(x + 6.0\\right)^{2} + \\left(y - 27.8\\right)^{2}\\right)^{1.5}} - \\frac{\\left(52351.8909831479 - 24.6587110000658 i\\right) \\left(- 1.0 y + 37.0\\right)}{\\left(\\left(x - 6.0\\right)^{2} + \\left(y - 37.0\\right)^{2}\\right)^{1.5}} - \\frac{\\left(52351.8909831479 - 24.6587110000658 i\\right) \\left(- 1.0 y + 37.0\\right)}{\\left(\\left(x + 6.0\\right)^{2} + \\left(y - 37.0\\right)^{2}\\right)^{1.5}} - \\frac{\\left(-7729.40060627881 - 13.5349782789824 i\\right) \\left(- 1.0 y + 55.0\\right)}{\\left(\\left(x - 8.0\\right)^{2} + \\left(y - 55.0\\right)^{2}\\right)^{1.5}} - \\frac{\\left(-7729.40060627882 - 13.5349782789824 i\\right) \\left(- 1.0 y + 55.0\\right)}{\\left(\\left(x + 8.0\\right)^{2} + \\left(y - 55.0\\right)^{2}\\right)^{1.5}}$$"
      ],
      "text/plain": [
       "                                                                              \n",
       "                                                          ⎛         2         \n",
       "- (7729.40060627881 + 13.5349782789824⋅ⅈ)⋅(-1.0⋅y - 55.0)⋅⎝(x - 8.0)  + (y + 5\n",
       "\n",
       "      -1.5                                                                    \n",
       "    2⎞                                                               ⎛        \n",
       "5.0) ⎠     - (7729.40060627882 + 13.5349782789824⋅ⅈ)⋅(-1.0⋅y - 55.0)⋅⎝(x + 8.0\n",
       "\n",
       "                 -1.5                                                         \n",
       " 2             2⎞                                                             \n",
       ")  + (y + 55.0) ⎠     - (-52351.8909831479 + 24.6587110000658⋅ⅈ)⋅(-1.0⋅y - 37.\n",
       "\n",
       "                             -1.5                                             \n",
       "   ⎛         2             2⎞                                                 \n",
       "0)⋅⎝(x - 6.0)  + (y + 37.0) ⎠     - (-52351.8909831479 + 24.6587110000658⋅ⅈ)⋅(\n",
       "\n",
       "                                         -1.5                                 \n",
       "               ⎛         2             2⎞                                     \n",
       "-1.0⋅y - 37.0)⋅⎝(x + 6.0)  + (y + 37.0) ⎠     - (31652.5113821154 + 50.7653568\n",
       "\n",
       "                                                    -1.5                      \n",
       "                          ⎛         2             2⎞                          \n",
       "433555⋅ⅈ)⋅(-1.0⋅y - 27.8)⋅⎝(x - 6.0)  + (y + 27.8) ⎠     - (31652.5113821154 +\n",
       "\n",
       "                                                               -1.5           \n",
       "                                     ⎛         2             2⎞               \n",
       " 50.7653568433555⋅ⅈ)⋅(-1.0⋅y - 27.8)⋅⎝(x + 6.0)  + (y + 27.8) ⎠     - (20385.8\n",
       "\n",
       "                                                                          -1.5\n",
       "                                                ⎛         2             2⎞    \n",
       "530821745 + 156.843214069865⋅ⅈ)⋅(-1.0⋅y - 17.0)⋅⎝(x - 6.0)  + (y + 17.0) ⎠    \n",
       "\n",
       "                                                                              \n",
       "                                                           ⎛         2        \n",
       " - (20385.8530821745 + 156.843214069865⋅ⅈ)⋅(-1.0⋅y - 17.0)⋅⎝(x + 6.0)  + (y + \n",
       "\n",
       "       -1.5                                                                   \n",
       "     2⎞                                                                ⎛      \n",
       "17.0) ⎠     - (-20385.8530821745 - 156.843214069865⋅ⅈ)⋅(-1.0⋅y + 17.0)⋅⎝(x - 6\n",
       "\n",
       "                   -1.5                                                       \n",
       "   2             2⎞                                                           \n",
       ".0)  + (y - 17.0) ⎠     - (-20385.8530821745 - 156.843214069865⋅ⅈ)⋅(-1.0⋅y + 1\n",
       "\n",
       "                               -1.5                                           \n",
       "     ⎛         2             2⎞                                               \n",
       "7.0)⋅⎝(x + 6.0)  + (y - 17.0) ⎠     - (-31652.5113821154 - 50.7653568433555⋅ⅈ)\n",
       "\n",
       "                                           -1.5                               \n",
       "                 ⎛         2             2⎞                                   \n",
       "⋅(-1.0⋅y + 27.8)⋅⎝(x - 6.0)  + (y - 27.8) ⎠     - (-31652.5113821154 - 50.7653\n",
       "\n",
       "                                                       -1.5                   \n",
       "                             ⎛         2             2⎞                       \n",
       "568433555⋅ⅈ)⋅(-1.0⋅y + 27.8)⋅⎝(x + 6.0)  + (y - 27.8) ⎠     - (52351.890983147\n",
       "\n",
       "                                                                  -1.5        \n",
       "                                        ⎛         2             2⎞            \n",
       "9 - 24.6587110000658⋅ⅈ)⋅(-1.0⋅y + 37.0)⋅⎝(x - 6.0)  + (y - 37.0) ⎠     - (5235\n",
       "\n",
       "                                                                             -\n",
       "                                                   ⎛         2             2⎞ \n",
       "1.8909831479 - 24.6587110000658⋅ⅈ)⋅(-1.0⋅y + 37.0)⋅⎝(x + 6.0)  + (y - 37.0) ⎠ \n",
       "\n",
       "1.5                                                                           \n",
       "                                                               ⎛         2    \n",
       "    - (-7729.40060627881 - 13.5349782789824⋅ⅈ)⋅(-1.0⋅y + 55.0)⋅⎝(x - 8.0)  + (\n",
       "\n",
       "           -1.5                                                               \n",
       "         2⎞                                                                ⎛  \n",
       "y - 55.0) ⎠     - (-7729.40060627882 - 13.5349782789824⋅ⅈ)⋅(-1.0⋅y + 55.0)⋅⎝(x\n",
       "\n",
       "                       -1.5\n",
       "       2             2⎞    \n",
       " + 8.0)  + (y - 55.0) ⎠    "
      ]
     },
     "execution_count": 175,
     "metadata": {},
     "output_type": "execute_result"
    }
   ],
   "source": [
    "ey_symbolical"
   ]
  },
  {
   "cell_type": "code",
   "execution_count": null,
   "metadata": {},
   "outputs": [],
   "source": []
  }
 ],
 "metadata": {
  "kernelspec": {
   "display_name": "Python 3",
   "language": "python",
   "name": "python3"
  },
  "language_info": {
   "codemirror_mode": {
    "name": "ipython",
    "version": 3
   },
   "file_extension": ".py",
   "mimetype": "text/x-python",
   "name": "python",
   "nbconvert_exporter": "python",
   "pygments_lexer": "ipython3",
   "version": "3.5.6"
  }
 },
 "nbformat": 4,
 "nbformat_minor": 2
}
