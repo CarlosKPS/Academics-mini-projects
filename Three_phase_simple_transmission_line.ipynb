{
 "cells": [
  {
   "cell_type": "markdown",
   "metadata": {},
   "source": [
    "# Three phase transmission line - one cable per phase\n",
    "### Author :  Carlos K.P.S.\n",
    "### 2019.1 UFRJ - Brazil - electrical engeneering student"
   ]
  },
  {
   "cell_type": "code",
   "execution_count": 176,
   "metadata": {},
   "outputs": [],
   "source": [
    "import numpy as np                                                   # for numerical calculus\n",
    "import sympy                                                         # symbolic library\n",
    "from sympy.abc import x, y                                           # in all code x and y are treated as symbolic variables\n",
    "from sympy.utilities.lambdify import lambdify, implemented_function  # for convert from symbolic to numerical\n",
    "from ipywidgets import interactive                                   # to make the graph's interativity\n",
    "from matplotlib import cm\n",
    "import matplotlib.pyplot as plt\n",
    "np.set_printoptions(suppress=True)\n",
    "np.set_printoptions(precision=2)"
   ]
  },
  {
   "cell_type": "code",
   "execution_count": 177,
   "metadata": {},
   "outputs": [],
   "source": [
    "u = 1.0              # 1pu       \n",
    "rf = 10e-3           # the conductor radius\n",
    "xc = [-7,0,7]        # define the x distance of all conductors\n",
    "yc = [10,10,10]      # define the y distance between eacho conductor to the ground"
   ]
  },
  {
   "cell_type": "code",
   "execution_count": 185,
   "metadata": {},
   "outputs": [],
   "source": [
    "# define the volts function. The entrance is a angle and its return a lis conteined a value of each fase in terms of the \n",
    "# pahse angle\n",
    "def volts(theta):\n",
    "    angle = np.radians(theta)                                                         # transform the degree angle into radian\n",
    "    volts = [u*np.round(np.cos(angle),8),u*np.cos(angle-2.*np.pi/3),u*np.round(np.cos(angle-4.*np.pi/3),8)]\n",
    "    return volts"
   ]
  },
  {
   "cell_type": "code",
   "execution_count": 186,
   "metadata": {},
   "outputs": [],
   "source": [
    "# the function that calculates the Maxwell potential matrix\n",
    "def pot_matrix(x,y,rf):\n",
    "    matrix = []\n",
    "    for i in range(0,len(xc)):\n",
    "        aux_list = []\n",
    "        for j in range(0,len(yc)):\n",
    "            if i!=j:\n",
    "                calculo = 0.5*np.log(((y[i]+y[j])**2+(x[i]-x[j])**2)/((y[i]-y[j])**2+(x[i]-x[j])**2))\n",
    "                aux_list.append(calculo)\n",
    "            else:\n",
    "                calculo = np.log(2*y[i]/rf)\n",
    "                aux_list.append(calculo)\n",
    "        matrix.append(aux_list)\n",
    "    return matrix"
   ]
  },
  {
   "cell_type": "code",
   "execution_count": 187,
   "metadata": {},
   "outputs": [],
   "source": [
    "# define a list of the equivalent charges \n",
    "def tot_charge(theta):\n",
    "    return np.linalg.inv(pot_matrix(xc,yc,rf))@volts(theta) # @ is the product of tow matrix"
   ]
  },
  {
   "cell_type": "code",
   "execution_count": 188,
   "metadata": {},
   "outputs": [],
   "source": [
    "# define the potential function\n",
    "def potencial(theta):\n",
    "    pot_aux = 0   # create a auxiliary variable for the iteration below\n",
    "    char = tot_charge(theta)\n",
    "    for i in np.arange(0,len(char)):  \n",
    "        pot_aux += (char[i])*1./(((x-xc[i])**2+(y-yc[i])**2)**0.5) - (char[i])/(((x-xc[i])**2+(y+yc[i])**2)**0.5) \n",
    "    return pot_aux"
   ]
  },
  {
   "cell_type": "code",
   "execution_count": 189,
   "metadata": {},
   "outputs": [],
   "source": [
    "# define the components of eletric fields\n",
    "def field(theta):\n",
    "    pot = potencial(theta)\n",
    "    ex = -sympy.diff(pot,x)\n",
    "    ey = -sympy.diff(pot,y)\n",
    "    return [ex,ey]"
   ]
  },
  {
   "cell_type": "code",
   "execution_count": 197,
   "metadata": {},
   "outputs": [],
   "source": [
    "# create meshgrid xx and yy\n",
    "xx,yy=np.meshgrid(np.linspace(-20,20,80),np.linspace(-20,20,150))"
   ]
  },
  {
   "cell_type": "code",
   "execution_count": 215,
   "metadata": {},
   "outputs": [
    {
     "data": {
      "application/vnd.jupyter.widget-view+json": {
       "model_id": "8c6fab1e286c4ee5923adc88ee780f3e",
       "version_major": 2,
       "version_minor": 0
      },
      "text/plain": [
       "interactive(children=(IntSlider(value=0, description='theta', max=360, step=30), Output()), _dom_classes=('wid…"
      ]
     },
     "metadata": {},
     "output_type": "display_data"
    }
   ],
   "source": [
    "# plotting the equipotentials\n",
    "def plotting(theta=0):\n",
    "    \n",
    "    pot_sym =potencial(theta)                     # gives a symbolic potential function \n",
    "    pot_num = lambdify((x,y),pot_sym,'numpy')     # convert into a numerical fucntion\n",
    "        \n",
    "    fig, ax = plt.subplots(figsize=(13,13))       # choosing the plot size\n",
    "    plt.contour(xx,yy,pot_num(xx,yy),900,colors='darkblue')\n",
    "    #cont1 = plt.contour(xx,yy,pot_num(xx,yy),750,cmap='gist_gray') \n",
    "    #plt.colorbar(cont1)\n",
    "    \n",
    "    plt.xlim(-20,20)                   \n",
    "    plt.ylim(-20,20)\n",
    "    plt.show()\n",
    "    \n",
    "    \n",
    "interative_plot = interactive(plotting,theta=(0,360,30))\n",
    "interative_plot"
   ]
  },
  {
   "cell_type": "code",
   "execution_count": 233,
   "metadata": {},
   "outputs": [
    {
     "data": {
      "application/vnd.jupyter.widget-view+json": {
       "model_id": "23b40401330b478bafd952af77398586",
       "version_major": 2,
       "version_minor": 0
      },
      "text/plain": [
       "interactive(children=(IntSlider(value=0, description='theta', max=360, step=30), Output()), _dom_classes=('wid…"
      ]
     },
     "metadata": {},
     "output_type": "display_data"
    }
   ],
   "source": [
    "# plotting the field lines of electric fields\n",
    "def plotting(theta=0):\n",
    "    \n",
    "    eletric_field = field(theta)                  # calling the field function tha gives the symbolical electric field components\n",
    "    ex = lambdify((x,y),eletric_field[0],'numpy') # electric field in x direction\n",
    "    ey = lambdify((x,y),eletric_field[1],'numpy') # electric field in y direction\n",
    "    \n",
    "   \n",
    "    \n",
    "    fig, ax = plt.subplots(figsize=(13,13))       # choosing the plot size\n",
    "    ax.streamplot(xx,yy,ex(xx,yy),ey(xx,yy),density=2,arrowsize=0.7,color='r',cmap='Greys')\n",
    "    plt.plot(np.linspace(-20,20,100),len(np.linspace(-20,20,100))*[1],color='black',linewidth=5) # create a line on the origin\n",
    "    \n",
    "    # -------------------------------- Create a circle to represent the conductors ------------------------------------------\n",
    "    circle1 = plt.Circle((xc[0],yc[0]),1,color='r')\n",
    "    circle2 = plt.Circle((xc[1],yc[1]),1,color='r')\n",
    "    circle3 = plt.Circle((xc[2],yc[2]),1,color='r')\n",
    "    circle4 = plt.Circle((xc[0],-yc[0]),1,color='blue')\n",
    "    circle5 = plt.Circle((xc[1],-yc[1]),1,color='blue')\n",
    "    circle6 = plt.Circle((xc[2],-yc[2]),1,color='blue')\n",
    "    ax.add_artist(circle1)\n",
    "    ax.add_artist(circle2)\n",
    "    ax.add_artist(circle3)\n",
    "    ax.add_artist(circle4)\n",
    "    ax.add_artist(circle5)\n",
    "    ax.add_artist(circle6)\n",
    "    # ------------------------------------------------------------------------------------------------------------------------\n",
    "    \n",
    "    plt.xlim(-20,20)                   \n",
    "    plt.ylim(-20,20)\n",
    "    plt.show()\n",
    "    \n",
    "    \n",
    "interative_plot = interactive(plotting,theta=(0,360,30))\n",
    "interative_plot"
   ]
  },
  {
   "cell_type": "code",
   "execution_count": 198,
   "metadata": {},
   "outputs": [
    {
     "data": {
      "application/vnd.jupyter.widget-view+json": {
       "model_id": "40d6f8d401bf406197d2ca6478a20e8b",
       "version_major": 2,
       "version_minor": 0
      },
      "text/plain": [
       "interactive(children=(IntSlider(value=0, description='theta', max=360, step=30), Output()), _dom_classes=('wid…"
      ]
     },
     "metadata": {},
     "output_type": "display_data"
    }
   ],
   "source": [
    "# define the plot of equipotentials and field lines together\n",
    "def plotting(theta=0):\n",
    "    \n",
    "    pot_sym =potencial(theta)                     # gives a symbolic potential function \n",
    "    pot_num = lambdify((x,y),pot_sym,'numpy')     # convert into a numerical fucntion\n",
    "    \n",
    "    eletric_field = field(theta)                  # calling the field function tha gives the symbolical electric field components\n",
    "    ex = lambdify((x,y),eletric_field[0],'numpy') # electric field in x direction\n",
    "    ey = lambdify((x,y),eletric_field[1],'numpy') # electric field in y direction\n",
    "    \n",
    "   \n",
    "    \n",
    "    fig, ax = plt.subplots(figsize=(13,13))       # choosing the plot size\n",
    "    #plt.contour(xx,yy,pot_num(xx,yy),950,colors='darkblue',linestyles='-')\n",
    "    cont1 = plt.contour(xx,yy,pot_num(xx,yy),750,cmap='gist_gray') \n",
    "    plt.colorbar(cont1)\n",
    "    #plt.contourf(xx,yy,pot_num(xx,yy),100)\n",
    "    ax.streamplot(xx,yy,ex(xx,yy),ey(xx,yy),density=2,arrowsize=0.7,color='r')\n",
    "    \n",
    "    #cp = plt.contourf(xx, yy, pot_num(xx,yy),300,cmap='nipy_spectral')\n",
    "    #plt.colorbar(cp)\n",
    "    \n",
    "    plt.xlim(-20,20)                   \n",
    "    plt.ylim(-20,20)\n",
    "    plt.show()\n",
    "    \n",
    "    \n",
    "interative_plot = interactive(plotting,theta=(0,360,30))\n",
    "interative_plot"
   ]
  },
  {
   "cell_type": "code",
   "execution_count": null,
   "metadata": {},
   "outputs": [],
   "source": []
  }
 ],
 "metadata": {
  "kernelspec": {
   "display_name": "Python 3",
   "language": "python",
   "name": "python3"
  },
  "language_info": {
   "codemirror_mode": {
    "name": "ipython",
    "version": 3
   },
   "file_extension": ".py",
   "mimetype": "text/x-python",
   "name": "python",
   "nbconvert_exporter": "python",
   "pygments_lexer": "ipython3",
   "version": "3.7.1"
  }
 },
 "nbformat": 4,
 "nbformat_minor": 2
}
